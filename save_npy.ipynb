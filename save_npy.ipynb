{
 "cells": [
  {
   "cell_type": "code",
   "execution_count": 1,
   "metadata": {},
   "outputs": [],
   "source": [
    "import numpy as np"
   ]
  },
  {
   "cell_type": "code",
   "execution_count": 2,
   "metadata": {},
   "outputs": [],
   "source": [
    "path = 'npy/150_adv02_'"
   ]
  },
  {
   "cell_type": "code",
   "execution_count": 3,
   "metadata": {},
   "outputs": [
    {
     "data": {
      "text/plain": [
       "(50000, 32, 32, 3)"
      ]
     },
     "execution_count": 3,
     "metadata": {},
     "output_type": "execute_result"
    }
   ],
   "source": [
    "f = np.load(path + '0_5000.npy')\n",
    "f1 = np.load(path + '5000_10000.npy')\n",
    "f2 = np.load(path + '10000_15000.npy')\n",
    "f3 = np.load(path + '15000_20000.npy')\n",
    "f4 = np.load(path + '20000_25000.npy')\n",
    "f5 = np.load(path + '25000_30000.npy')\n",
    "f6 = np.load(path + '30000_35000.npy')\n",
    "f7 = np.load(path + '35000_40000.npy')\n",
    "f8 = np.load(path + '40000_45000.npy')\n",
    "f9 = np.load(path + '45000_50000.npy')\n",
    "li = np.concatenate([f, f1, f2, f3, f4, f5, f6, f7, f8, f9])\n",
    "li.shape"
   ]
  },
  {
   "cell_type": "code",
   "execution_count": 4,
   "metadata": {},
   "outputs": [
    {
     "name": "stdout",
     "output_type": "stream",
     "text": [
      "saved\n"
     ]
    }
   ],
   "source": [
    "np.save(path + 'train.npy', li)\n",
    "print('saved')"
   ]
  },
  {
   "cell_type": "code",
   "execution_count": null,
   "metadata": {},
   "outputs": [],
   "source": []
  },
  {
   "cell_type": "code",
   "execution_count": null,
   "metadata": {},
   "outputs": [],
   "source": []
  }
 ],
 "metadata": {
  "kernelspec": {
   "display_name": "Python 3",
   "language": "python",
   "name": "python3"
  },
  "language_info": {
   "codemirror_mode": {
    "name": "ipython",
    "version": 3
   },
   "file_extension": ".py",
   "mimetype": "text/x-python",
   "name": "python",
   "nbconvert_exporter": "python",
   "pygments_lexer": "ipython3",
   "version": "3.7.3"
  }
 },
 "nbformat": 4,
 "nbformat_minor": 2
}
